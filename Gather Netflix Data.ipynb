{
 "cells": [
  {
   "cell_type": "markdown",
   "id": "fe63fc6e-37ef-4f8f-a49f-89d4bf27a359",
   "metadata": {},
   "source": [
    "# Gathering and Sanitizing Netflix User Data\n",
    "\n",
    "A concern when sharing information online is giving out more information than might be safe. Since this report is going to be about Netflix profile watch data the chances of that being true here is small, but not null. After we pull the data we will check the information included in the base file, then sanitized and/or [hash](https://www.techtarget.com/searchdatamanagement/definition/hashing)  the data.\n",
    "\n",
    "To download the usage information from Netflix navigate to the url `https://www.netflix.com/account/getmyinfo` and submit a request for a copy of your information. After a short period of time you will receive an email from Netflix with a CSV file of your data.\n",
    "\n",
    "Download and unzip the file. Inside are 11 folders and two files:\n",
    "\n",
    "![netflix-report-tree structure](./files/assets/netflix-report-tree.png 'netflix report tree')\n",
    "\n",
    "The report that we are looking for is `./CONTENT_INTERACTION/ViewingActivity.csv` and we can move that into the `files/non-sanitized` folder\n"
   ]
  },
  {
   "cell_type": "markdown",
   "id": "f6c68f6b-cce3-4340-af0a-67bd2a06fef7",
   "metadata": {},
   "source": [
    "We can now pull in the data and check what the columns are."
   ]
  },
  {
   "cell_type": "raw",
   "id": "5de12b00-40e2-46d7-84a2-1ca9a7a4a413",
   "metadata": {},
   "source": [
    "import pandas as pd\n",
    "df = pd.read_csv(r'./files/non-sanitized/ViewingActivity.csv')\n",
    "df.columns.to_series()"
   ]
  },
  {
   "cell_type": "markdown",
   "id": "07f7bef7-8310-489f-aa97-a111538e6d59",
   "metadata": {},
   "source": [
    "The two columns that I might be  about releasing are `` and ``. Looking at the actual data in the columns the only one that I will be sanitizing is ``.\n",
    "First we has the values in the column, then we can check the DataFrame Header to check that there isn't any more data to sanitize."
   ]
  },
  {
   "cell_type": "code",
   "execution_count": 2,
   "id": "045e617a-1f86-411d-a437-8b0126c71830",
   "metadata": {},
   "outputs": [
    {
     "ename": "NameError",
     "evalue": "name 'd' is not defined",
     "output_type": "error",
     "traceback": [
      "\u001b[31m---------------------------------------------------------------------------\u001b[39m",
      "\u001b[31mNameError\u001b[39m                                 Traceback (most recent call last)",
      "\u001b[36mCell\u001b[39m\u001b[36m \u001b[39m\u001b[32mIn[2]\u001b[39m\u001b[32m, line 1\u001b[39m\n\u001b[32m----> \u001b[39m\u001b[32m1\u001b[39m df[\u001b[33m'\u001b[39m\u001b[33m'\u001b[39m] = \u001b[43md\u001b[49m[\u001b[33m'\u001b[39m\u001b[33m'\u001b[39m].apply(\u001b[38;5;28mhash\u001b[39m)\n\u001b[32m      2\u001b[39m \u001b[38;5;28mprint\u001b[39m(df)\n",
      "\u001b[31mNameError\u001b[39m: name 'd' is not defined"
     ]
    }
   ],
   "source": [
    "df[''] = d[''].apply(hash)\n",
    "print(df)"
   ]
  },
  {
   "cell_type": "markdown",
   "id": "48276c65-34be-4c9a-a888-2064167adff2",
   "metadata": {},
   "source": [
    "Now we save the data. To maintain data integrity we save the file in a different location"
   ]
  },
  {
   "cell_type": "code",
   "execution_count": 3,
   "id": "fc3aedb1-5dd0-44b1-8758-b9a131219914",
   "metadata": {},
   "outputs": [
    {
     "ename": "NameError",
     "evalue": "name 'df' is not defined",
     "output_type": "error",
     "traceback": [
      "\u001b[31m---------------------------------------------------------------------------\u001b[39m",
      "\u001b[31mNameError\u001b[39m                                 Traceback (most recent call last)",
      "\u001b[36mCell\u001b[39m\u001b[36m \u001b[39m\u001b[32mIn[3]\u001b[39m\u001b[32m, line 1\u001b[39m\n\u001b[32m----> \u001b[39m\u001b[32m1\u001b[39m \u001b[43mdf\u001b[49m.to_csv(\u001b[33mr\u001b[39m\u001b[33m'\u001b[39m\u001b[33m.files/ViewingActivity_sanitized.csv\u001b[39m\u001b[33m'\u001b[39m)\n",
      "\u001b[31mNameError\u001b[39m: name 'df' is not defined"
     ]
    }
   ],
   "source": [
    "df.to_csv(r'.files/ViewingActivity_sanitized.csv')"
   ]
  }
 ],
 "metadata": {
  "kernelspec": {
   "display_name": "Python 3 (ipykernel)",
   "language": "python",
   "name": "python3"
  },
  "language_info": {
   "codemirror_mode": {
    "name": "ipython",
    "version": 3
   },
   "file_extension": ".py",
   "mimetype": "text/x-python",
   "name": "python",
   "nbconvert_exporter": "python",
   "pygments_lexer": "ipython3",
   "version": "3.12.11"
  }
 },
 "nbformat": 4,
 "nbformat_minor": 5
}
