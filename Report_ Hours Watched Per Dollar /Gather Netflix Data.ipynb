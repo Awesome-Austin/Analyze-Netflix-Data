{
 "cells": [
  {
   "cell_type": "markdown",
   "id": "3b231ed8-9b4e-496f-8ca4-bc8d1442b1cf",
   "metadata": {},
   "source": [
    "# Gathering and Sanitizing Netflix User Data\n",
    "\n",
    "A concern when sharing information online is giving out more information than might be safe. Since this report is going to be about Netflix profile watch data the chances of that being true here is small, but not null. After we pull the data we will check the information included in the base file, then sanitized and/or [hash](https://www.techtarget.com/searchdatamanagement/definition/hashing)  the data.\n",
    "\n",
    "To download the usage information from Netflix navigate to the url `https://www.netflix.com/account/getmyinfo` and submit a request for a copy of your information. After a short period of time you will receive an email from Netflix with a CSV file of your data.\n",
    "\n",
    "Download and unzip the file. Inside are 11 folders and two files:\n",
    "\n",
    "![netflix-report-tree structure](./files/assets/netflix-report-tree.png 'netflix report tree')"
   ]
  },
  {
   "cell_type": "markdown",
   "id": "9d92b6ee-5b08-454d-9570-35f93b59da15",
   "metadata": {},
   "source": [
    "## Viewing Activity"
   ]
  },
  {
   "cell_type": "markdown",
   "id": "fcb4fc66-b877-45fd-bcf2-c09478a0ff8a",
   "metadata": {},
   "source": [
    "The first report that we are looking for is `./CONTENT_INTERACTION/ViewingActivity.csv` and we can move that into the `files/non-sanitized` folder"
   ]
  },
  {
   "cell_type": "markdown",
   "id": "f6c68f6b-cce3-4340-af0a-67bd2a06fef7",
   "metadata": {},
   "source": [
    "We can now pull in the data and check what the columns are."
   ]
  },
  {
   "cell_type": "code",
   "execution_count": 1,
   "id": "130f2132-c2e1-4e43-a0e1-e9ff84a100c9",
   "metadata": {},
   "outputs": [
    {
     "data": {
      "text/plain": [
       "Duration                   object\n",
       "Start Time                 object\n",
       "Profile Name               object\n",
       "Country                    object\n",
       "Bookmark                   object\n",
       "Latest Bookmark            object\n",
       "Supplemental Video Type    object\n",
       "Attributes                 object\n",
       "Device Type                object\n",
       "Title                      object\n",
       "dtype: object"
      ]
     },
     "execution_count": 1,
     "metadata": {},
     "output_type": "execute_result"
    }
   ],
   "source": [
    "import pandas as pd\n",
    "\n",
    "file_dir = r'./files'\n",
    "non_sanitized_dir = fr'{file_dir}/non-sanitized'\n",
    "\n",
    "df_v = pd.read_csv(fr'{non_sanitized_dir}/ViewingActivity.csv')\n",
    "df_v.dtypes"
   ]
  },
  {
   "cell_type": "markdown",
   "id": "8de36572-6d04-4ece-8bc2-18e9bc94f674",
   "metadata": {},
   "source": [
    "We won't need all of these columns to calulate how many Hours were Watched in a month. So lets look at each column to see if it holds data we want to keep.\n",
    "\n",
    "A full description of each column can be found on page 11 of the PDF [`Cover Sheet.pdf`](./files/Cover%20Sheet.pdf) from the root folder downloaded from Netflix. A summary of the data is as follows:\n",
    "\n",
    "|Column Name | Description |\n",
    "| --- | --- |\n",
    "| Profile Name | The profile which viewed the program |\n",
    "| Start Time | The UTC date and time viewing started. |\n",
    "| Duration | Length of the viewing session |\n",
    "| Attributes | Shows additional details of interactions with streamed content, where available. |\n",
    "| Title | The Program viewed. |\n",
    "| Supplemental Video Type | Videos other than a TV show or movie, such as trailers or montages |\n",
    "| Device type | Device type from which the program was streamed |\n",
    "| Bookmark | Most recent viewing position from the playback session of the program. |\n",
    "| Latest Bookmark | Indicates whether the Bookmark is the most recent viewing postions. *Not latest view* indicates that it is not the most recent playback |\n",
    "| Country | Country from which the program was viewed. |\n",
    "\n",
    "Note: The term *program* can mean either a TV show or a movie.\n"
   ]
  },
  {
   "cell_type": "markdown",
   "id": "bd96f596-e915-4a3e-9d56-0933fd966e60",
   "metadata": {},
   "source": [
    "The only columns that we need to calculate our number are `Start Time`, and `Duration`, however under the description for `Supplemental Video Type` we can see that some of the views are not for programs themselves but rather their trailers/hooks/etc. When we create the sanitized dataset we can also filter out all records where the `Supplemental Video Type` is anything other than empty."
   ]
  },
  {
   "cell_type": "code",
   "execution_count": 9,
   "id": "12fc0891-42f7-4af1-9540-0a4f6a85f757",
   "metadata": {},
   "outputs": [
    {
     "data": {
      "text/html": [
       "<div>\n",
       "<style scoped>\n",
       "    .dataframe tbody tr th:only-of-type {\n",
       "        vertical-align: middle;\n",
       "    }\n",
       "\n",
       "    .dataframe tbody tr th {\n",
       "        vertical-align: top;\n",
       "    }\n",
       "\n",
       "    .dataframe thead th {\n",
       "        text-align: right;\n",
       "    }\n",
       "</style>\n",
       "<table border=\"1\" class=\"dataframe\">\n",
       "  <thead>\n",
       "    <tr style=\"text-align: right;\">\n",
       "      <th></th>\n",
       "      <th>Start Time</th>\n",
       "      <th>Duration</th>\n",
       "    </tr>\n",
       "  </thead>\n",
       "  <tbody>\n",
       "    <tr>\n",
       "      <th>8936</th>\n",
       "      <td>2020-09-23 09:40:25</td>\n",
       "      <td>01:12:14</td>\n",
       "    </tr>\n",
       "    <tr>\n",
       "      <th>8902</th>\n",
       "      <td>2020-09-28 16:59:54</td>\n",
       "      <td>00:00:37</td>\n",
       "    </tr>\n",
       "    <tr>\n",
       "      <th>10210</th>\n",
       "      <td>2020-03-27 12:19:38</td>\n",
       "      <td>00:02:00</td>\n",
       "    </tr>\n",
       "    <tr>\n",
       "      <th>13175</th>\n",
       "      <td>2016-12-31 11:25:19</td>\n",
       "      <td>00:21:33</td>\n",
       "    </tr>\n",
       "    <tr>\n",
       "      <th>9073</th>\n",
       "      <td>2020-09-13 07:24:48</td>\n",
       "      <td>00:42:30</td>\n",
       "    </tr>\n",
       "    <tr>\n",
       "      <th>527</th>\n",
       "      <td>2025-07-11 03:18:44</td>\n",
       "      <td>00:20:03</td>\n",
       "    </tr>\n",
       "    <tr>\n",
       "      <th>8453</th>\n",
       "      <td>2020-12-21 09:37:38</td>\n",
       "      <td>00:58:04</td>\n",
       "    </tr>\n",
       "    <tr>\n",
       "      <th>1130</th>\n",
       "      <td>2025-05-08 03:42:53</td>\n",
       "      <td>00:20:01</td>\n",
       "    </tr>\n",
       "    <tr>\n",
       "      <th>6733</th>\n",
       "      <td>2022-01-06 08:40:59</td>\n",
       "      <td>00:23:22</td>\n",
       "    </tr>\n",
       "    <tr>\n",
       "      <th>6310</th>\n",
       "      <td>2022-02-19 14:25:22</td>\n",
       "      <td>00:01:58</td>\n",
       "    </tr>\n",
       "  </tbody>\n",
       "</table>\n",
       "</div>"
      ],
      "text/plain": [
       "                Start Time  Duration\n",
       "8936   2020-09-23 09:40:25  01:12:14\n",
       "8902   2020-09-28 16:59:54  00:00:37\n",
       "10210  2020-03-27 12:19:38  00:02:00\n",
       "13175  2016-12-31 11:25:19  00:21:33\n",
       "9073   2020-09-13 07:24:48  00:42:30\n",
       "527    2025-07-11 03:18:44  00:20:03\n",
       "8453   2020-12-21 09:37:38  00:58:04\n",
       "1130   2025-05-08 03:42:53  00:20:01\n",
       "6733   2022-01-06 08:40:59  00:23:22\n",
       "6310   2022-02-19 14:25:22  00:01:58"
      ]
     },
     "execution_count": 9,
     "metadata": {},
     "output_type": "execute_result"
    }
   ],
   "source": [
    "df_vc = df_v.loc[df_v['Supplemental Video Type'].isnull()][['Start Time', 'Duration']]\n",
    "df_vc\n",
    "df_vc.sample(10)"
   ]
  },
  {
   "cell_type": "markdown",
   "id": "48276c65-34be-4c9a-a888-2064167adff2",
   "metadata": {},
   "source": [
    "Now we save the data. We don't need the index so we will also remove the index column.\n",
    "\n",
    "To maintain data integrity we save the file in a different location"
   ]
  },
  {
   "cell_type": "code",
   "execution_count": 3,
   "id": "fc3aedb1-5dd0-44b1-8758-b9a131219914",
   "metadata": {},
   "outputs": [],
   "source": [
    "df_vc.to_csv(rf'{file_dir}/view_activity_by_month.csv', index=False)"
   ]
  },
  {
   "cell_type": "markdown",
   "id": "4727b395-6ca5-457a-b744-675c44887e81",
   "metadata": {},
   "source": [
    "## Billing History"
   ]
  },
  {
   "cell_type": "markdown",
   "id": "c0eeefb3-852a-4ab0-846d-79eddbad2afe",
   "metadata": {},
   "source": [
    "The next report can be found in the `./PAYMENT_AND_BILLING/BillingHistory.csv`, and we will place in the same `files/non-sanitized` folder"
   ]
  },
  {
   "cell_type": "code",
   "execution_count": 4,
   "id": "bdb008ec-7b0e-41a1-9225-f6b08034b8df",
   "metadata": {},
   "outputs": [
    {
     "data": {
      "text/plain": [
       "Transaction Date              object\n",
       "Country                       object\n",
       "Mop Last 4                     int64\n",
       "Final Invoice Result          object\n",
       "Mop Pmt Processor Desc        object\n",
       "Pmt Txn Type                  object\n",
       "Description                   object\n",
       "Gross Sale Amt               float64\n",
       "Pmt Status                    object\n",
       "Payment Type                  object\n",
       "Tax Amt                      float64\n",
       "Service Period Start Date     object\n",
       "Item Price Amt               float64\n",
       "Mop Creation Date             object\n",
       "Currency                      object\n",
       "Next Billing Date             object\n",
       "Service Period End Date       object\n",
       "dtype: object"
      ]
     },
     "execution_count": 4,
     "metadata": {},
     "output_type": "execute_result"
    }
   ],
   "source": [
    "df_b = pd.read_csv(fr'{non_sanitized_dir}/BillingHistory.csv')\n",
    "df_b.dtypes"
   ]
  },
  {
   "cell_type": "markdown",
   "id": "4eb75132-bfe4-4f4c-9e39-61e9881bbddd",
   "metadata": {},
   "source": [
    "We won't need all of these columns to get the subscription cost. Lets again look at each column to see if it holds data we want to keep.\n",
    "\n",
    "The report that we are using is `BillingHistory.csv`. In the data downloaded from Netflix, in the PDF [`Cover Sheet.pdf`](./files/Cover%20Sheet.pdf) on page 16 we can find a full description of the data that each column holds. A summary of the data is as follows:\n",
    "\n",
    "|Column Name | Description |\n",
    "| --- | --- |\n",
    "| `Transaction Date` | Date the payment was charged |\n",
    "| `Service Period Start Date` | Start date of the subscription period |\n",
    "| `Service Period End Date` | End date of the subscription period |\n",
    "| `Description` |  Type of charge incurred. ex:, \"subscription\", is the cost for the subscription; \"upgrade\" means that the subscription was upgraded |\n",
    "| `Payment Type` | Payment associated with your account<br>*note: removed for this report* |\n",
    "| `Mop Last 4` | last four digits of your method of payment<br>*note: removed for this report*|\n",
    "| `Mop Creation Date` | Date the mop was added |\n",
    "| `Mop Pmt Processor Desc` | Processor used for the payment transaction |\n",
    "| `Item Price Amt` | Cost of subscription, without tax |\n",
    "| `Currency` | Currency in which method of payment is charged |\n",
    "| `Tax Amt` | Tax amount applied to `Item Price Amt`. |\n",
    "| `Gross Sale Amt` | Total amount charged for subscription, including tax. |\n",
    "| `Pmt Txn Type` | Stage that payment transaction has entered. ex:<br>`SALE`: renewal began;<br>`CAPTURED`: payment captured by `Mop Pmt Processor`. |\n",
    "| `Pmt Status` | Status of the payment transaction. ex: <br>`declined`: transaction was declined; <br>`approved` transaction was approved and the mop was charged; <br>`pending`:  transaction is pending decline or approval. |\n",
    "| `Final Invoice Result` | Charges made or attempted to make toward account. ex: <br>`COMPLETED` Charge was successful;<br>`SETTLED`: The fee has reached Netflix; <br> `AUTHORIZATIONS`: Requests to verify that the mop works; <br>`APPLIED` Gift card applied to account; `DEDUCTED`: charge deducted from the balance of the gift card |\n",
    "| `Country` | Country in which the account subscription is initiated.<br>*note: removed for this report* |\n",
    "| `Next Billing Date` | Next date on which the member will be billed. |\n",
    "\n",
    "\n",
    "Note: The term *mop* means Method of Payment."
   ]
  },
  {
   "cell_type": "markdown",
   "id": "3af8ec8c-9ed4-4cea-811f-46245a783d8a",
   "metadata": {},
   "source": [
    "While the only columns that we need for the calculations are `Service Period Start Date` and `Gross Sale Amt` this report includes multiple records for each month due to the multiple 'handshakes' that a merchant and bank perform when making a purchase. For some of these the 'Service Period Start Date' value is null and will need to be filtered out. Before making the changes we want to make sure that we only remove the data that needs to be removed."
   ]
  },
  {
   "cell_type": "code",
   "execution_count": 5,
   "id": "9c26290c-959c-4e31-a093-19328e92aca8",
   "metadata": {},
   "outputs": [
    {
     "name": "stdout",
     "output_type": "stream",
     "text": [
      "total months: 89\n",
      "months with multiple records: 51\n"
     ]
    }
   ],
   "source": [
    "df_b = df_b.loc[df_b['Service Period Start Date'].notnull()]\n",
    "\n",
    "b_tm = len(df_b['Service Period Start Date'].unique())\n",
    "b_vc = df_b['Service Period Start Date'].value_counts()\n",
    "\n",
    "print(f'total months: {b_tm}\\nmonths with multiple records: {len(b_vc[b_vc>1])}')"
   ]
  },
  {
   "cell_type": "markdown",
   "id": "1fda8f91-8bbe-476f-a733-93fb108905f5",
   "metadata": {},
   "source": [
    "By leaving only these two columns we also have removed the markers that made the additional records unique, which then allows us to usilize the built-in `.drop_duplicates()` function to clear those records."
   ]
  },
  {
   "cell_type": "code",
   "execution_count": 6,
   "id": "32b70d55-acfd-4b7b-b90b-293ea6476c1f",
   "metadata": {},
   "outputs": [
    {
     "name": "stdout",
     "output_type": "stream",
     "text": [
      "total months: 89\n",
      "months with multiple records: 0\n"
     ]
    },
    {
     "data": {
      "text/html": [
       "<div>\n",
       "<style scoped>\n",
       "    .dataframe tbody tr th:only-of-type {\n",
       "        vertical-align: middle;\n",
       "    }\n",
       "\n",
       "    .dataframe tbody tr th {\n",
       "        vertical-align: top;\n",
       "    }\n",
       "\n",
       "    .dataframe thead th {\n",
       "        text-align: right;\n",
       "    }\n",
       "</style>\n",
       "<table border=\"1\" class=\"dataframe\">\n",
       "  <thead>\n",
       "    <tr style=\"text-align: right;\">\n",
       "      <th></th>\n",
       "      <th>Service Period Start Date</th>\n",
       "      <th>Gross Sale Amt</th>\n",
       "    </tr>\n",
       "  </thead>\n",
       "  <tbody>\n",
       "    <tr>\n",
       "      <th>138</th>\n",
       "      <td>2022-09-02</td>\n",
       "      <td>15.49</td>\n",
       "    </tr>\n",
       "    <tr>\n",
       "      <th>86</th>\n",
       "      <td>2023-10-01</td>\n",
       "      <td>19.99</td>\n",
       "    </tr>\n",
       "    <tr>\n",
       "      <th>60</th>\n",
       "      <td>2024-04-01</td>\n",
       "      <td>22.99</td>\n",
       "    </tr>\n",
       "    <tr>\n",
       "      <th>161</th>\n",
       "      <td>2022-04-02</td>\n",
       "      <td>15.49</td>\n",
       "    </tr>\n",
       "    <tr>\n",
       "      <th>70</th>\n",
       "      <td>2024-02-01</td>\n",
       "      <td>22.99</td>\n",
       "    </tr>\n",
       "  </tbody>\n",
       "</table>\n",
       "</div>"
      ],
      "text/plain": [
       "    Service Period Start Date  Gross Sale Amt\n",
       "138                2022-09-02           15.49\n",
       "86                 2023-10-01           19.99\n",
       "60                 2024-04-01           22.99\n",
       "161                2022-04-02           15.49\n",
       "70                 2024-02-01           22.99"
      ]
     },
     "execution_count": 6,
     "metadata": {},
     "output_type": "execute_result"
    }
   ],
   "source": [
    "df_bpm = df_b[['Service Period Start Date', 'Gross Sale Amt']].drop_duplicates()\n",
    "\n",
    "bpm_tm = len(df_b['Service Period Start Date'].unique())\n",
    "bpm_vc = df_bpm['Service Period Start Date'].value_counts()\n",
    "\n",
    "print(f'total months: {bpm_tm}\\nmonths with multiple records: {len(bpm_vc[bpm_vc>1])}')\n",
    "df_bpm.sample(n=5)"
   ]
  },
  {
   "cell_type": "markdown",
   "id": "42370f15-755e-432f-9596-75b513c81977",
   "metadata": {},
   "source": [
    "we can now save the new report for later use."
   ]
  },
  {
   "cell_type": "code",
   "execution_count": 10,
   "id": "19660a40-af08-4ca2-9b14-9713d1c3868a",
   "metadata": {},
   "outputs": [],
   "source": [
    "df_bpm.to_csv(rf'{file_dir}/billing_by_month.csv', index=False)"
   ]
  }
 ],
 "metadata": {
  "kernelspec": {
   "display_name": "Python 3 (ipykernel)",
   "language": "python",
   "name": "python3"
  },
  "language_info": {
   "codemirror_mode": {
    "name": "ipython",
    "version": 3
   },
   "file_extension": ".py",
   "mimetype": "text/x-python",
   "name": "python",
   "nbconvert_exporter": "python",
   "pygments_lexer": "ipython3",
   "version": "3.12.11"
  }
 },
 "nbformat": 4,
 "nbformat_minor": 5
}
